{
 "cells": [
  {
   "cell_type": "code",
   "execution_count": 28,
   "metadata": {},
   "outputs": [],
   "source": [
    "import pandas as pd\n",
    "import numpy as np\n",
    "from scipy.stats import chi2_contingency\n",
    "from statsmodels.stats.multitest import fdrcorrection"
   ]
  },
  {
   "cell_type": "markdown",
   "metadata": {},
   "source": [
    "# Chi-Squared Family Counts"
   ]
  },
  {
   "cell_type": "code",
   "execution_count": 39,
   "metadata": {},
   "outputs": [
    {
     "data": {
      "text/html": [
       "<div>\n",
       "<style scoped>\n",
       "    .dataframe tbody tr th:only-of-type {\n",
       "        vertical-align: middle;\n",
       "    }\n",
       "\n",
       "    .dataframe tbody tr th {\n",
       "        vertical-align: top;\n",
       "    }\n",
       "\n",
       "    .dataframe thead th {\n",
       "        text-align: right;\n",
       "    }\n",
       "</style>\n",
       "<table border=\"1\" class=\"dataframe\">\n",
       "  <thead>\n",
       "    <tr style=\"text-align: right;\">\n",
       "      <th>segment</th>\n",
       "      <th>TRBJ1-1</th>\n",
       "      <th>TRBJ1-2</th>\n",
       "      <th>TRBJ1-3</th>\n",
       "      <th>TRBJ1-4</th>\n",
       "      <th>TRBJ1-5</th>\n",
       "      <th>TRBJ1-6</th>\n",
       "      <th>TRBJ2-1</th>\n",
       "      <th>TRBJ2-2</th>\n",
       "      <th>TRBJ2-3</th>\n",
       "      <th>TRBJ2-4</th>\n",
       "      <th>TRBJ2-5</th>\n",
       "      <th>TRBJ2-6</th>\n",
       "      <th>TRBJ2-7</th>\n",
       "    </tr>\n",
       "    <tr>\n",
       "      <th>HLA_type</th>\n",
       "      <th></th>\n",
       "      <th></th>\n",
       "      <th></th>\n",
       "      <th></th>\n",
       "      <th></th>\n",
       "      <th></th>\n",
       "      <th></th>\n",
       "      <th></th>\n",
       "      <th></th>\n",
       "      <th></th>\n",
       "      <th></th>\n",
       "      <th></th>\n",
       "      <th></th>\n",
       "    </tr>\n",
       "  </thead>\n",
       "  <tbody>\n",
       "    <tr>\n",
       "      <th>DQB1*0301+</th>\n",
       "      <td>10248</td>\n",
       "      <td>9000</td>\n",
       "      <td>2814</td>\n",
       "      <td>3400</td>\n",
       "      <td>6389</td>\n",
       "      <td>4024</td>\n",
       "      <td>12244</td>\n",
       "      <td>6504</td>\n",
       "      <td>10364</td>\n",
       "      <td>1448</td>\n",
       "      <td>8628</td>\n",
       "      <td>1637</td>\n",
       "      <td>13553</td>\n",
       "    </tr>\n",
       "    <tr>\n",
       "      <th>DQB1*0301-</th>\n",
       "      <td>35507</td>\n",
       "      <td>31846</td>\n",
       "      <td>10022</td>\n",
       "      <td>12524</td>\n",
       "      <td>21110</td>\n",
       "      <td>12920</td>\n",
       "      <td>45541</td>\n",
       "      <td>23631</td>\n",
       "      <td>37619</td>\n",
       "      <td>5274</td>\n",
       "      <td>30269</td>\n",
       "      <td>5704</td>\n",
       "      <td>48855</td>\n",
       "    </tr>\n",
       "  </tbody>\n",
       "</table>\n",
       "</div>"
      ],
      "text/plain": [
       "segment     TRBJ1-1  TRBJ1-2  TRBJ1-3  TRBJ1-4  TRBJ1-5  TRBJ1-6  TRBJ2-1  \\\n",
       "HLA_type                                                                    \n",
       "DQB1*0301+    10248     9000     2814     3400     6389     4024    12244   \n",
       "DQB1*0301-    35507    31846    10022    12524    21110    12920    45541   \n",
       "\n",
       "segment     TRBJ2-2  TRBJ2-3  TRBJ2-4  TRBJ2-5  TRBJ2-6  TRBJ2-7  \n",
       "HLA_type                                                          \n",
       "DQB1*0301+     6504    10364     1448     8628     1637    13553  \n",
       "DQB1*0301-    23631    37619     5274    30269     5704    48855  "
      ]
     },
     "execution_count": 39,
     "metadata": {},
     "output_type": "execute_result"
    }
   ],
   "source": [
    "family = \"TRBJ\"\n",
    "\n",
    "df = pd.read_csv(\"20230307_single_VJusage_OddsRatio_in_DQB10301DQB10602.csv\")\n",
    "\n",
    "df = df.loc[\n",
    "    (df[\"cell_type\"] == \"CD4\") & (df[\"hla\"] == \"DQB1*03:01_positive\"),\n",
    "    [\"segment\", \"HLA+CellType+VJ+\", \"HLA-CellType+VJ+\"]\n",
    "].drop_duplicates()\n",
    "# df['count'] = wanlu_df['HLA+CellType+VJ+'] + wanlu_df['HLA-CellType+VJ+']\n",
    "# df['family'] = wanlu_df['segment'].str.slice(0,4)\n",
    "\n",
    "df = df.rename(columns={'HLA+CellType+VJ+': 'DQB1*0301+', 'HLA-CellType+VJ+': 'DQB1*0301-'})\n",
    "\n",
    "pattern = r'(TRAV[0-9-]+)DV([0-9]+)'\n",
    "replacement = r'\\1/DV\\2'\n",
    "df['segment'] = df['segment'].replace(pattern, replacement, regex=True)\n",
    "\n",
    "df_long = pd.melt(df, id_vars='segment', var_name='HLA_type', value_name='count')\n",
    "\n",
    "family_counts_table = df_long.pivot_table(index='HLA_type', columns='segment', values='count')\n",
    "\n",
    "family_counts_table = family_counts_table[[x for x in family_counts_table.columns if x.startswith(family)]]\n",
    "\n",
    "family_counts_table"
   ]
  },
  {
   "cell_type": "code",
   "execution_count": 46,
   "metadata": {},
   "outputs": [
    {
     "data": {
      "text/plain": [
       "segment       TRAV39TRAV13-1TRAV36/DV7TRAV12-3TRAV1-2TRAV13-...\n",
       "DQB1*0301+                                               361012\n",
       "DQB1*0301-                                              1283283\n",
       "dtype: object"
      ]
     },
     "execution_count": 46,
     "metadata": {},
     "output_type": "execute_result"
    }
   ],
   "source": [
    "df.sum()"
   ]
  },
  {
   "cell_type": "code",
   "execution_count": 40,
   "metadata": {},
   "outputs": [],
   "source": [
    "# compute usage\n",
    "DQB0301_pos_total = df['DQB1*0301+'].sum()\n",
    "DQB0301_neg_total = df['DQB1*0301-'].sum()\n",
    "\n",
    "usage_df = df.copy()\n",
    "usage_df[\"DQB0301_pos_usage\"] = df['DQB1*0301+'] / DQB0301_pos_total\n",
    "usage_df[\"DQB0301_neg_usage\"] = df['DQB1*0301-'] / DQB0301_neg_total\n",
    "usage_df[\"DQB0301_pos_to_neg_usage_ratio\"] = usage_df[\"DQB0301_pos_usage\"] / usage_df[\"DQB0301_neg_usage\"]\n",
    "usage_df = usage_df.rename(columns={'segment': 'gene'})\n",
    "usage_df = usage_df[[\"gene\", \"DQB0301_pos_usage\", \"DQB0301_neg_usage\", \"DQB0301_pos_to_neg_usage_ratio\"]]"
   ]
  },
  {
   "cell_type": "code",
   "execution_count": 41,
   "metadata": {},
   "outputs": [
    {
     "data": {
      "text/plain": [
       "{'TRBJ1-1': {'DQB1*0301+': 10248, 'DQB1*0301-': 35507},\n",
       " 'TRBJ1-2': {'DQB1*0301+': 9000, 'DQB1*0301-': 31846},\n",
       " 'TRBJ1-3': {'DQB1*0301+': 2814, 'DQB1*0301-': 10022},\n",
       " 'TRBJ1-4': {'DQB1*0301+': 3400, 'DQB1*0301-': 12524},\n",
       " 'TRBJ1-5': {'DQB1*0301+': 6389, 'DQB1*0301-': 21110},\n",
       " 'TRBJ1-6': {'DQB1*0301+': 4024, 'DQB1*0301-': 12920},\n",
       " 'TRBJ2-1': {'DQB1*0301+': 12244, 'DQB1*0301-': 45541},\n",
       " 'TRBJ2-2': {'DQB1*0301+': 6504, 'DQB1*0301-': 23631},\n",
       " 'TRBJ2-3': {'DQB1*0301+': 10364, 'DQB1*0301-': 37619},\n",
       " 'TRBJ2-4': {'DQB1*0301+': 1448, 'DQB1*0301-': 5274},\n",
       " 'TRBJ2-5': {'DQB1*0301+': 8628, 'DQB1*0301-': 30269},\n",
       " 'TRBJ2-6': {'DQB1*0301+': 1637, 'DQB1*0301-': 5704},\n",
       " 'TRBJ2-7': {'DQB1*0301+': 13553, 'DQB1*0301-': 48855}}"
      ]
     },
     "execution_count": 41,
     "metadata": {},
     "output_type": "execute_result"
    }
   ],
   "source": [
    "family_counts_dict = family_counts_table.to_dict()\n",
    "family_counts_dict"
   ]
  },
  {
   "cell_type": "code",
   "execution_count": 42,
   "metadata": {},
   "outputs": [],
   "source": [
    "chi_square_families_res_dict = {'gene': [], 'chi2':[], 'odds_ratio':[], 'p_value':[]}\n",
    "\n",
    "pos_total_count, neg_total_count = 0, 0\n",
    "for gene in family_counts_dict:\n",
    "    pos_total_count += family_counts_dict[gene]['DQB1*0301+']\n",
    "    neg_total_count += family_counts_dict[gene]['DQB1*0301-']\n",
    "\n",
    "for gene in family_counts_dict:\n",
    "    A = family_counts_dict[gene]['DQB1*0301+']\n",
    "    B = pos_total_count-A\n",
    "    C = family_counts_dict[gene]['DQB1*0301-']\n",
    "    D = neg_total_count-C\n",
    "    contingency_table = np.array([[A, B],\n",
    "                                  [C, D]])\n",
    "    chi2, p_value, dof, expected = chi2_contingency(contingency_table)\n",
    "    chi_square_families_res_dict['gene'].append(gene)\n",
    "    chi_square_families_res_dict['chi2'].append(chi2)\n",
    "    chi_square_families_res_dict['odds_ratio'].append((A*D)/(B*C))\n",
    "    chi_square_families_res_dict['p_value'].append(p_value)\n",
    "\n",
    "chi_square_families_res_df = pd.DataFrame(chi_square_families_res_dict)\n",
    "chi_square_families_res_df['pvalue_fdr'] = fdrcorrection(chi_square_families_res_df['p_value'])[1]"
   ]
  },
  {
   "cell_type": "code",
   "execution_count": 43,
   "metadata": {},
   "outputs": [],
   "source": [
    "merged_df = usage_df.merge(chi_square_families_res_df, how=\"inner\", on=\"gene\")\n",
    "merged_df = merged_df.sort_values(by=['pvalue_fdr'])\n",
    "merged_df.to_csv(f\"FINAL_WANLU_{family}_FAMILY_CHISQUARE.csv\", sep=\"\\t\", index=None)"
   ]
  },
  {
   "cell_type": "markdown",
   "metadata": {},
   "source": [
    "# Chi-Squared Amino Acid Counts"
   ]
  },
  {
   "cell_type": "code",
   "execution_count": null,
   "metadata": {},
   "outputs": [],
   "source": [
    "TRV = \"TRBV\" # \"TRAV\"\n",
    "\n",
    "df = pd.read_csv(\"20230307_single_VJusage_OddsRatio_in_DQB10301DQB10602.csv\")\n",
    "\n",
    "df = df.loc[\n",
    "    (df[\"cell_type\"] == \"CD4\") & (df[\"hla\"] == \"DQB1*03:01_positive\"),\n",
    "    [\"segment\", \"HLA+CellType+VJ+\", \"HLA-CellType+VJ+\"]\n",
    "].drop_duplicates()\n",
    "# df['count'] = wanlu_df['HLA+CellType+VJ+'] + wanlu_df['HLA-CellType+VJ+']\n",
    "# df['TRV'] = wanlu_df['segment'].str.slice(0,4)\n",
    "\n",
    "df = df.rename(columns={'HLA+CellType+VJ+': 'DQB1*0301+', 'HLA-CellType+VJ+': 'DQB1*0301-'})\n",
    "\n",
    "pattern = r'(TRAV[0-9-]+)DV([0-9]+)'\n",
    "replacement = r'\\1/DV\\2'\n",
    "df['segment'] = df['segment'].replace(pattern, replacement, regex=True)\n",
    "\n",
    "df_long = pd.melt(df, id_vars='segment', var_name='HLA_type', value_name='count')\n",
    "\n",
    "family_counts_table = df_long.pivot_table(index='HLA_type', columns='segment', values='count')\n",
    "\n",
    "family_counts_table = family_counts_table[[x for x in family_counts_table.columns if x.startswith(TRV)]]\n",
    "\n",
    "family_counts_table"
   ]
  },
  {
   "cell_type": "code",
   "execution_count": null,
   "metadata": {},
   "outputs": [],
   "source": [
    "## load amino acid sequences for each tcr family\n",
    "#family_counts_table = pd.read_csv(\"DGN_family_counts_table.csv\").set_index(\"patid\")\n",
    "\n",
    "\n",
    "AA_seq_df = pd.read_csv(\"{}_AA_sequences.csv\".format(TRV))[['family', 'CDR1_sequence', 'CDR2_sequence']]\n",
    "AA_seq_df['CDR_seq'] = (AA_seq_df['CDR1_sequence'] + AA_seq_df['CDR2_sequence']).apply(lambda x: list(x))\n",
    "\n",
    "CDR_NUM_AA = 22 # 22 positions, first 12 are CDR1, then 10 are CDR2\n",
    "family_sequence_dict = dict()\n",
    "for index, row in AA_seq_df.iterrows():\n",
    "    family_sequence_dict[row['family']] = row['CDR_seq']\n",
    "family_counts_table.iloc[0]"
   ]
  },
  {
   "cell_type": "code",
   "execution_count": null,
   "metadata": {},
   "outputs": [],
   "source": [
    "patid_position_AA_dict = dict()\n",
    "# We have two conditions, DQB1*0301+ and DQB1*0301-, we will treat as having two patients\n",
    "NUM_PATIENTS = 2\n",
    "for i in range(NUM_PATIENTS):\n",
    "    family_counts = family_counts_table.iloc[i]\n",
    "    patid = family_counts.name\n",
    "    position_AA_dict = dict()\n",
    "    for family, count in family_counts.iteritems(): # this patient's count for each family\n",
    "        # if we have the AA sequence from IMGT for this family\n",
    "        # This will only contain either TRAV or TRBV\n",
    "        if family in family_sequence_dict: \n",
    "            if not np.isnan(count): # if counts are not null\n",
    "                #print(f\"adding {family} to counts\")\n",
    "                for pos, AA in enumerate(family_sequence_dict[family]): # for CDR AA at each position\n",
    "                    if pos not in position_AA_dict:\n",
    "                        position_AA_dict[pos] = dict()\n",
    "                    if AA not in position_AA_dict[pos]:\n",
    "                        position_AA_dict[pos][AA] = 0\n",
    "                    position_AA_dict[pos][AA] += count\n",
    "    patid_position_AA_dict[patid] = position_AA_dict\n",
    "patid_position_AA_dict"
   ]
  },
  {
   "cell_type": "code",
   "execution_count": null,
   "metadata": {},
   "outputs": [],
   "source": [
    "\"\"\"\n",
    "position_AA_dict structure for each patid: 22 positions, different AA counts at each position\n",
    "{'DQB1*0301+': {0: {'T': 22855,\n",
    "   'V': 10169,\n",
    "   'N': 18943,\n",
    "   'D': 15039,\n",
    "   'Y': 6944,\n",
    "   'S': 10388,\n",
    "   'K': 973,\n",
    "   'A': 4942},\n",
    "...}\n",
    "\"\"\"\n",
    "\n",
    "position_lists = [[] for _ in range(CDR_NUM_AA)]\n",
    "for patid in patid_position_AA_dict:\n",
    "    patid_df = pd.DataFrame.from_dict(patid_position_AA_dict[patid]) # get the above dict for each patient\n",
    "    for position in range(CDR_NUM_AA):\n",
    "        series = patid_df[position]\n",
    "        series.name = patid\n",
    "        # N x M array where N is CDR_NUM_AA and M is NUM_PATIENTS\n",
    "        position_lists[position].append(series)\n",
    "# N dataframes each with M rows\n",
    "position_dfs = [pd.concat(position_list, axis=1, sort=True) for position_list in position_lists]\n",
    "\n",
    "# for i in range(CDR_NUM_AA):\n",
    "#     position_dfs[i] = position_dfs[i][position_dfs[i].isnull().sum(axis=1) < NUM_PATIENTS].fillna(0.0).transpose()\n",
    "#     position_dfs[i].index.name = \"HLA_type\"\n",
    "#     #position_dfs[i][\"DQB1*0301+\"] = [1.0, 0.0]\n",
    "\n",
    "# for i in range(CDR_NUM_AA):\n",
    "#     position_dfs[i].to_csv(\"Wanlu_{}_CDR1_CDR2_position_{}_AA_counts_table.csv\".format(TRV, i))"
   ]
  },
  {
   "cell_type": "code",
   "execution_count": null,
   "metadata": {},
   "outputs": [],
   "source": [
    "chi_square_AA_res_dict = {'position': [], 'amino_acid': [], 'chi2': [], 'odds_ratio':[], 'p_value':[]}\n",
    "\n",
    "## CDR1\n",
    "TRAV_active_positions = [0, 1, 2, 3, 9, 10, 11]\n",
    "TRBV_active_positions = [0, 1, 2, 9, 10, 11]\n",
    "\n",
    "if TRV == \"TRAV\":\n",
    "    TRV_active_positions = TRAV_active_positions\n",
    "else:\n",
    "    TRV_active_positions = TRBV_active_positions\n",
    "\n",
    "for i in TRV_active_positions:\n",
    "    hla_pos_AA_dict = patid_position_AA_dict['DQB1*0301+'][i]\n",
    "    pos_total_count = sum(hla_pos_AA_dict.values())\n",
    "    hla_neg_AA_dict = patid_position_AA_dict['DQB1*0301-'][i]\n",
    "    neg_total_count = sum(hla_neg_AA_dict.values())\n",
    "    for AA in hla_pos_AA_dict:\n",
    "        A = hla_pos_AA_dict[AA]\n",
    "        B = pos_total_count-A\n",
    "        C = hla_neg_AA_dict[AA]\n",
    "        D = neg_total_count-C\n",
    "        contingency_table = np.array([[A, B],\n",
    "                                      [C, D]])\n",
    "        chi2, p_value, dof, expected = chi2_contingency(contingency_table)\n",
    "        \n",
    "        chi_square_AA_res_dict['position'].append(i+27)\n",
    "        chi_square_AA_res_dict['amino_acid'].append(AA)\n",
    "        chi_square_AA_res_dict['chi2'].append(chi2)\n",
    "        chi_square_AA_res_dict['odds_ratio'].append((A*D)/(B*C))\n",
    "        chi_square_AA_res_dict['p_value'].append(p_value)\n",
    "\n",
    "\n",
    "print(\"\\n\")\n",
    "## CDR2\n",
    "TRAV_active_positions = [0, 1, 2, 3, 6, 7, 8, 9]\n",
    "TRBV_active_positions = [0, 1, 2, 3, 7, 8, 9]\n",
    "\n",
    "if TRV == \"TRAV\":\n",
    "    TRV_active_positions = TRAV_active_positions\n",
    "else:\n",
    "    TRV_active_positions = TRBV_active_positions\n",
    "\n",
    "for i in TRV_active_positions:\n",
    "    # +12 to offset the CDR1 AA's in front \n",
    "    hla_pos_AA_dict = patid_position_AA_dict['DQB1*0301+'][i+12]\n",
    "    pos_total_count = sum(hla_pos_AA_dict.values())\n",
    "    hla_neg_AA_dict = patid_position_AA_dict['DQB1*0301-'][i+12]\n",
    "    neg_total_count = sum(hla_neg_AA_dict.values())\n",
    "    for AA in hla_pos_AA_dict:\n",
    "        A = hla_pos_AA_dict[AA]\n",
    "        B = pos_total_count-A\n",
    "        C = hla_neg_AA_dict[AA]\n",
    "        D = neg_total_count-C\n",
    "        contingency_table = np.array([[A, B],\n",
    "                                      [C, D]])\n",
    "        chi2, p_value, dof, expected = chi2_contingency(contingency_table)\n",
    "        \n",
    "        chi_square_AA_res_dict['position'].append(i+56)\n",
    "        chi_square_AA_res_dict['amino_acid'].append(AA)\n",
    "        chi_square_AA_res_dict['chi2'].append(chi2)\n",
    "        chi_square_AA_res_dict['odds_ratio'].append((A*D)/(B*C))\n",
    "        chi_square_AA_res_dict['p_value'].append(p_value)\n",
    "\n",
    "        \n",
    "chi_square_AA_res_df = pd.DataFrame(chi_square_AA_res_dict)\n",
    "chi_square_AA_res_df['pvalue_fdr'] = fdrcorrection(chi_square_AA_res_df['p_value'])[1]\n",
    "chi_square_AA_res_df[chi_square_AA_res_df[\"pvalue_fdr\"] < 0.05].sort_values(by=['position', 'pvalue_fdr']).to_csv(f\"FINAL_WANLU_{TRV}_AMINOACID_CHISQUARE.csv\", sep=\"\\t\", index=None)"
   ]
  },
  {
   "cell_type": "code",
   "execution_count": null,
   "metadata": {},
   "outputs": [],
   "source": []
  },
  {
   "cell_type": "code",
   "execution_count": null,
   "metadata": {},
   "outputs": [],
   "source": [
    "\n",
    "\n",
    "for position in \n",
    "assert(set(hla_pos_AA_dict.keys()) == set(hla_neg_AA_dict.keys()))\n",
    "for AA in hla_pos_AA_dict:\n",
    "    contingency_table = np.array([[hla_pos_AA_dict[AA], pos_total_count],\n",
    "                                  [hla_neg_AA_dict[AA], neg_total_count]])\n",
    "    chi2, p_value, dof, expected = chi2_contingency(contingency_table)\n",
    "    chi_square_AA_res_dict['position'].append(position)\n",
    "    chi_square_AA_res_dict['amino_acid'].append(AA)\n",
    "    chi_square_AA_res_dict['p_value'].append(p_value)"
   ]
  },
  {
   "cell_type": "code",
   "execution_count": null,
   "metadata": {},
   "outputs": [],
   "source": []
  },
  {
   "cell_type": "code",
   "execution_count": null,
   "metadata": {},
   "outputs": [],
   "source": []
  },
  {
   "cell_type": "code",
   "execution_count": null,
   "metadata": {},
   "outputs": [],
   "source": []
  },
  {
   "cell_type": "code",
   "execution_count": null,
   "metadata": {},
   "outputs": [],
   "source": []
  },
  {
   "cell_type": "code",
   "execution_count": null,
   "metadata": {},
   "outputs": [],
   "source": []
  },
  {
   "cell_type": "code",
   "execution_count": null,
   "metadata": {},
   "outputs": [],
   "source": [
    "len(position_dfs)"
   ]
  },
  {
   "cell_type": "code",
   "execution_count": null,
   "metadata": {},
   "outputs": [],
   "source": [
    "position_dfs[0]"
   ]
  },
  {
   "cell_type": "code",
   "execution_count": null,
   "metadata": {},
   "outputs": [],
   "source": [
    "position_dfs[0][\"D\"]"
   ]
  },
  {
   "cell_type": "code",
   "execution_count": null,
   "metadata": {},
   "outputs": [],
   "source": [
    "contingency_table = np.array([[20, 30],  # Male\n",
    "                              [25, 35]]) # Female\n",
    "\n",
    "# Perform the chi-squared test\n",
    "chi2, p_value, dof, expected = chi2_contingency(contingency_table)\n",
    "\n",
    "# Print the results\n",
    "print(\"Chi-squared statistic:\", chi2)\n",
    "print(\"p-value:\", p_value)\n",
    "print(\"Degrees of freedom:\", dof)\n",
    "print(\"Expected frequencies (based on the null hypothesis):\")\n",
    "print(expected)"
   ]
  },
  {
   "cell_type": "code",
   "execution_count": null,
   "metadata": {},
   "outputs": [],
   "source": [
    "res.summary()"
   ]
  },
  {
   "cell_type": "code",
   "execution_count": null,
   "metadata": {},
   "outputs": [],
   "source": [
    "\n",
    "#print(res.summary())\n",
    "tcr_df = pd.DataFrame()\n",
    "tcr_df['coef'] = res.params\n",
    "tcr_df['se'] = res.bse\n",
    "tcr_df['pvalue'] = res.pvalues\n",
    "tcr_df['tvalue'] = res.tvalues\n",
    "#res_df[y_column] = tcr_df.loc[ind_var_col_name]"
   ]
  },
  {
   "cell_type": "code",
   "execution_count": null,
   "metadata": {},
   "outputs": [],
   "source": [
    "tcr_df"
   ]
  },
  {
   "cell_type": "code",
   "execution_count": null,
   "metadata": {},
   "outputs": [],
   "source": [
    "def do_ols(pat_info_df, usage_table, ind_var, y_cols, cov_cols):\n",
    "    # ind_var: independent variable for model, e.g. 'DQB1*03:01'\n",
    "    all_df = pd.merge(pat_info_df, usage_table, right_index=True, left_index=True, how=\"inner\")\n",
    "#     if binary: # code variable as 0 1\n",
    "#         ind_var_col_name = \"{}_binary\".format(ind_var)\n",
    "#         all_df[ind_var_col_name] = (all_df[ind_var] > 0).astype(\"float\")\n",
    "#     else: # code variable as 0 1 2\n",
    "    ind_var_col_name = ind_var\n",
    "    #all_df[ind_var_col_name] = all_df[ind_var_col_name].astype(\"float\")\n",
    "    \n",
    "    #print(\"doing {} tests. out of {} rows, {} are {} > 0\".format(len(y_cols), len(all_df), len(all_df[all_df[ind_var]>0]), ind_var))\n",
    "    x_columns = [ind_var_col_name] + cov_cols\n",
    "    res_df = pd.DataFrame()\n",
    "    for y_column in y_cols:\n",
    "        X = all_df[x_columns]\n",
    "        y = all_df[y_column]\n",
    "        X = sm.add_constant(X) # constant is always added\n",
    "        mod = sm.OLS(y, X)\n",
    "        res = mod.fit()\n",
    "        #print(res.summary())\n",
    "        tcr_df = pd.DataFrame()\n",
    "        tcr_df['coef'] = res.params\n",
    "        tcr_df['se'] = res.bse\n",
    "        tcr_df['pvalue'] = res.pvalues\n",
    "        tcr_df['tvalue'] = res.tvalues\n",
    "        res_df[y_column] = tcr_df.loc[ind_var_col_name]\n",
    "    res_df = res_df.transpose().reset_index().rename(columns={\"index\":\"family\"}).sort_values(\"pvalue\", ascending=True)\n",
    "    # FDR correction\n",
    "    res_df['pvalue_fdr'] = fdrcorrection(res_df['pvalue'])[1]\n",
    "    return res_df"
   ]
  },
  {
   "cell_type": "code",
   "execution_count": null,
   "metadata": {},
   "outputs": [],
   "source": []
  },
  {
   "cell_type": "code",
   "execution_count": null,
   "metadata": {},
   "outputs": [],
   "source": []
  },
  {
   "cell_type": "code",
   "execution_count": null,
   "metadata": {},
   "outputs": [],
   "source": []
  }
 ],
 "metadata": {
  "kernelspec": {
   "display_name": "Python3.7 (fsl)",
   "language": "python",
   "name": "fsl"
  },
  "language_info": {
   "codemirror_mode": {
    "name": "ipython",
    "version": 3
   },
   "file_extension": ".py",
   "mimetype": "text/x-python",
   "name": "python",
   "nbconvert_exporter": "python",
   "pygments_lexer": "ipython3",
   "version": "3.7.7"
  }
 },
 "nbformat": 4,
 "nbformat_minor": 4
}
